{
 "cells": [
  {
   "cell_type": "code",
   "execution_count": 1,
   "id": "8e7e5f75",
   "metadata": {},
   "outputs": [
    {
     "name": "stdout",
     "output_type": "stream",
     "text": [
      "Populating the interactive namespace from numpy and matplotlib\n"
     ]
    },
    {
     "data": {
      "application/javascript": [
       "\n",
       "try {\n",
       "require(['notebook/js/codecell'], function(codecell) {\n",
       "  codecell.CodeCell.options_default.highlight_modes[\n",
       "      'magic_text/x-csrc'] = {'reg':[/^%%microblaze/]};\n",
       "  Jupyter.notebook.events.one('kernel_ready.Kernel', function(){\n",
       "      Jupyter.notebook.get_cells().map(function(cell){\n",
       "          if (cell.cell_type == 'code'){ cell.auto_highlight(); } }) ;\n",
       "  });\n",
       "});\n",
       "} catch (e) {};\n"
      ]
     },
     "metadata": {},
     "output_type": "display_data"
    },
    {
     "data": {
      "application/javascript": [
       "\n",
       "try {\n",
       "require(['notebook/js/codecell'], function(codecell) {\n",
       "  codecell.CodeCell.options_default.highlight_modes[\n",
       "      'magic_text/x-csrc'] = {'reg':[/^%%pybind11/]};\n",
       "  Jupyter.notebook.events.one('kernel_ready.Kernel', function(){\n",
       "      Jupyter.notebook.get_cells().map(function(cell){\n",
       "          if (cell.cell_type == 'code'){ cell.auto_highlight(); } }) ;\n",
       "  });\n",
       "});\n",
       "} catch (e) {};\n"
      ]
     },
     "metadata": {},
     "output_type": "display_data"
    }
   ],
   "source": [
    "%pylab inline\n",
    "from qick import *\n",
    "from tqdm.notebook import tqdm"
   ]
  },
  {
   "cell_type": "code",
   "execution_count": 2,
   "id": "636f1446",
   "metadata": {},
   "outputs": [
    {
     "name": "stdout",
     "output_type": "stream",
     "text": [
      "\n",
      "QICK configuration:\n",
      "\n",
      "\tBoard: RFSoC4x2\n",
      "\n",
      "\tGlobal clocks (MHz): tProcessor 350.000, RF reference 491.520\n",
      "\n",
      "\t2 signal generator channels:\n",
      "\t0:\taxis_signal_gen_v6 - tProc output 0, envelope memory 65536 samples\n",
      "\t\tDAC tile 0, ch 0, 32-bit DDS, fabric=614.400 MHz, fs=9830.400 MHz\n",
      "\t1:\taxis_signal_gen_v6 - tProc output 1, envelope memory 65536 samples\n",
      "\t\tDAC tile 2, ch 0, 32-bit DDS, fabric=614.400 MHz, fs=9830.400 MHz\n",
      "\n",
      "\t2 readout channels:\n",
      "\t0:\taxis_readout_v2 - controlled by PYNQ\n",
      "\t\tADC tile 0, ch 0, 32-bit DDS, fabric=491.520 MHz, fs=3932.160 MHz\n",
      "\t\tmaxlen 1024 (avg) 16384 (decimated), trigger bit 4, tProc input 0\n",
      "\t1:\taxis_readout_v2 - controlled by PYNQ\n",
      "\t\tADC tile 0, ch 1, 32-bit DDS, fabric=491.520 MHz, fs=3932.160 MHz\n",
      "\t\tmaxlen 1024 (avg) 16384 (decimated), trigger bit 5, tProc input 1\n",
      "\n",
      "\t2 DACs:\n",
      "\t\tDAC tile 0, ch 0 is DAC_B\n",
      "\t\tDAC tile 2, ch 0 is DAC_A\n",
      "\n",
      "\t2 ADCs:\n",
      "\t\tADC tile 0, ch 0 is ADC_D\n",
      "\t\tADC tile 0, ch 1 is ADC_C\n",
      "\n",
      "\t4 digital output pins (tProc output 7):\n",
      "\t0:\tPMOD0_0\n",
      "\t1:\tPMOD0_1\n",
      "\t2:\tPMOD0_2\n",
      "\t3:\tPMOD0_3\n",
      "\n",
      "\ttProc: program memory 1024 words, data memory 1024 words\n",
      "\t\texternal start pin: None\n"
     ]
    }
   ],
   "source": [
    "soc = QickSoc()\n",
    "soccfg = soc\n",
    "print(soc)"
   ]
  },
  {
   "cell_type": "code",
   "execution_count": 3,
   "id": "df4fc24c",
   "metadata": {},
   "outputs": [],
   "source": [
    "config = {\n",
    " 'res_ch': 0,\n",
    " 'qubit_ch': 1,\n",
    "    \n",
    " 'readout_length': soccfg.us2cycles(600*0.001, gen_ch=0),\n",
    " 'f_res': 7371.8,\n",
    " 'res_phase': 0,\n",
    " 'adc_trig_offset': 200,\n",
    " 'res_gain': int(0.046*32000),\n",
    "    \n",
    " 'pi_gain': int(0.05*32000),\n",
    " 'pi2_gain': int(0.05*32000/2),\n",
    " 'f_ge': 5541.94,\n",
    " 'len': 30*0.001,\n",
    "    \n",
    " 'relax_delay': 100_000*0.001,\n",
    "    \n",
    " 'start': 0,\n",
    " 'step': soccfg.us2cycles(100*0.001),\n",
    "    \n",
    " 'phase_step': soccfg.deg2reg(np.degrees(1), 0),\n",
    "    \n",
    " 'expts': 100,\n",
    " 'reps': 10,\n",
    " 'rounds': 200}"
   ]
  },
  {
   "cell_type": "code",
   "execution_count": 4,
   "id": "18e1865e",
   "metadata": {},
   "outputs": [],
   "source": [
    "class RamseyProgramSlow(AveragerProgram):\n",
    "    def initialize(self):\n",
    "        cfg=self.cfg\n",
    "        \n",
    "        self.q_rp=self.ch_page(cfg[\"qubit_ch\"])     # get register page for qubit_ch\n",
    "        self.wait = cfg[\"wait\"]\n",
    "        \n",
    "        self.declare_gen(ch=cfg[\"res_ch\"], nqz=2) #Readout\n",
    "        self.declare_gen(ch=cfg[\"qubit_ch\"], nqz=2) #Qubit\n",
    "        for ch in [0,1]: #configure the readout lengths and downconversion frequencies\n",
    "            self.declare_readout(ch=ch, length=cfg[\"readout_length\"],\n",
    "                                 freq=cfg[\"f_res\"], gen_ch=cfg[\"res_ch\"])\n",
    "        \n",
    "        f_res=self.freq2reg(cfg[\"f_res\"], gen_ch=cfg[\"res_ch\"], ro_ch=0) # conver f_res to dac register value\n",
    "        f_ge=self.freq2reg(cfg[\"f_ge\"], gen_ch=cfg[\"qubit_ch\"])\n",
    "        self.f_ge = f_ge\n",
    "        self.set_pulse_registers(ch=cfg[\"qubit_ch\"], style=\"const\", freq=f_ge, phase=0,\n",
    "                                 gain=cfg[\"pi2_gain\"],\n",
    "                                 length=self.soccfg.us2cycles(cfg[\"len\"], gen_ch=cfg[\"qubit_ch\"]))\n",
    "        self.set_pulse_registers(ch=cfg[\"res_ch\"], style=\"const\", freq=f_res, phase=cfg[\"res_phase\"], gain=cfg[\"res_gain\"], \n",
    "                                 length=cfg[\"readout_length\"])        \n",
    "        \n",
    "        self.sync_all(self.us2cycles(0.2))\n",
    "    \n",
    "    def body(self):        \n",
    "        self.pulse(ch=self.cfg[\"qubit_ch\"], t=0)  #play probe pulse\n",
    "        \n",
    "        self.set_pulse_registers(ch=self.cfg[\"qubit_ch\"], style=\"const\", freq=self.f_ge, phase=self.cfg[\"phase\"],\n",
    "                                 gain=self.cfg[\"pi2_gain\"], \n",
    "                                 length=self.soccfg.us2cycles(self.cfg[\"len\"], gen_ch=self.cfg[\"qubit_ch\"]))\n",
    "        \n",
    "        self.pulse(ch=self.cfg[\"qubit_ch\"], t=self.soccfg.us2cycles(self.cfg[\"len\"])+self.wait)  #\n",
    "\n",
    "        #trigger measurement, play measurement pulse, wait for qubit to relax\n",
    "        self.measure(pulse_ch=self.cfg[\"res_ch\"], \n",
    "             adcs=[0],\n",
    "             t=2*self.soccfg.us2cycles(self.cfg[\"len\"])+self.wait,\n",
    "             adc_trig_offset=2*self.soccfg.us2cycles(self.cfg[\"len\"])+self.wait+self.cfg[\"adc_trig_offset\"],\n",
    "             wait=True,\n",
    "             syncdelay=self.us2cycles(self.cfg[\"relax_delay\"]))\n",
    "        "
   ]
  },
  {
   "cell_type": "code",
   "execution_count": 5,
   "id": "86209526",
   "metadata": {},
   "outputs": [
    {
     "name": "stdout",
     "output_type": "stream",
     "text": [
      "warning: pulse time 10 appears to conflict with previous pulse ending at 10.253906?\n"
     ]
    },
    {
     "data": {
      "text/plain": [
       "[<matplotlib.lines.Line2D at 0xffff86f63bb0>]"
      ]
     },
     "execution_count": 5,
     "metadata": {},
     "output_type": "execute_result"
    },
    {
     "data": {
      "image/png": "[encoded data removed]",
      "text/plain": [
       "<Figure size 432x288 with 1 Axes>"
      ]
     },
     "metadata": {
      "needs_background": "light"
     },
     "output_type": "display_data"
    }
   ],
   "source": [
    "res = []\n",
    "for i, w in enumerate(np.arange(0, config[\"step\"]*config[\"expts\"], config[\"step\"])):\n",
    "    config[\"wait\"] = w\n",
    "    config[\"phase\"] = soccfg.deg2reg(np.degrees(1*i), 0)\n",
    "    config[\"off\"] = soccfg.deg2reg(np.degrees(1*i), 0)\n",
    "    t2p=RamseyProgramSlow(soccfg, config)\n",
    "    avgi, avgq= t2p.acquire(soc, load_pulses=True,progress=False, debug=False)\n",
    "    res.append(np.abs(avgi[0][0]+avgq[0][0]*1j))\n",
    "    \n",
    "subplot(111, title=\"Ramsey Fringe Experiment\", xlabel=\"Delay time [us]\", ylabel=\"Qubit Population\")\n",
    "plt.plot(soccfg.cycles2us(np.arange(0, config[\"step\"]*config[\"expts\"], config[\"step\"])), res,'o-')"
   ]
  },
  {
   "cell_type": "code",
   "execution_count": null,
   "id": "880f1a92",
   "metadata": {},
   "outputs": [],
   "source": []
  },
  {
   "cell_type": "code",
   "execution_count": 6,
   "id": "0b2f5812",
   "metadata": {},
   "outputs": [],
   "source": [
    "class RamseyProgram(RAveragerProgram):\n",
    "    def initialize(self):\n",
    "        cfg=self.cfg\n",
    "        \n",
    "        self.q_rp=self.ch_page(cfg[\"qubit_ch\"])\n",
    "        self.r_wait = 3\n",
    "        self.r_phase2 = 4\n",
    "        self.r_phase=self.sreg(cfg[\"qubit_ch\"], \"phase\")\n",
    "        self.regwi(self.q_rp, self.r_wait, cfg[\"start\"])\n",
    "        self.regwi(self.q_rp, self.r_phase2, 0)\n",
    "        \n",
    "        self.declare_gen(ch=cfg[\"res_ch\"], nqz=2)\n",
    "        self.declare_gen(ch=cfg[\"qubit_ch\"], nqz=2) \n",
    "        \n",
    "        for ch in [0,1]:\n",
    "            self.declare_readout(ch=ch, length=cfg[\"readout_length\"],\n",
    "                                 freq=cfg[\"f_res\"], gen_ch=cfg[\"res_ch\"])\n",
    "        \n",
    "        f_res=self.freq2reg(cfg[\"f_res\"], gen_ch=cfg[\"res_ch\"], ro_ch=0)\n",
    "        f_ge=self.freq2reg(cfg[\"f_ge\"], gen_ch=cfg[\"qubit_ch\"])\n",
    "\n",
    "\n",
    "        self.set_pulse_registers(ch=cfg[\"qubit_ch\"], style=\"const\", freq=f_ge, phase=0,\n",
    "                                 gain=cfg[\"pi2_gain\"], \n",
    "                                 length=self.soccfg.us2cycles(self.cfg[\"len\"], gen_ch=self.cfg[\"qubit_ch\"]))\n",
    "        \n",
    "        self.set_pulse_registers(ch=cfg[\"res_ch\"], style=\"const\", freq=f_res, phase=cfg[\"res_phase\"],\n",
    "                                 gain=cfg[\"res_gain\"], length=cfg[\"readout_length\"])        \n",
    "        \n",
    "        self.sync_all(self.us2cycles(0.2))\n",
    "    \n",
    "    def body(self):\n",
    "        self.regwi(self.q_rp, self.r_phase, 0)\n",
    "        \n",
    "        self.pulse(ch=self.cfg[\"qubit_ch\"])  #play probe pulse\n",
    "        self.mathi(self.q_rp, self.r_phase, self.r_phase2,\"+\",0)\n",
    "        self.sync_all()\n",
    "        self.sync(self.q_rp,self.r_wait)\n",
    "\n",
    "        self.pulse(ch=self.cfg[\"qubit_ch\"])  #play probe pulse\n",
    "        self.sync_all()\n",
    "\n",
    "        #trigger measurement, play measurement pulse, wait for qubit to relax\n",
    "        self.measure(pulse_ch=self.cfg[\"res_ch\"], \n",
    "             adcs=[0,1],\n",
    "             adc_trig_offset=self.cfg[\"adc_trig_offset\"],\n",
    "             wait=True,\n",
    "             syncdelay=self.us2cycles(self.cfg[\"relax_delay\"]))\n",
    "        \n",
    "    def update(self):\n",
    "        self.mathi(self.q_rp, self.r_wait, self.r_wait, '+', self.cfg[\"step\"]) # update the time between two π/2 pulses\n",
    "        self.mathi(self.q_rp, self.r_phase2, self.r_phase2, '+', self.cfg[\"phase_step\"]) # advance the phase of the LO for the second π/2 pulse"
   ]
  },
  {
   "cell_type": "code",
   "execution_count": 7,
   "id": "32029e85",
   "metadata": {},
   "outputs": [
    {
     "data": {
      "application/vnd.jupyter.widget-view+json": {
       "model_id": "5b98c84003a2411795a5a8eb42fbfc50",
       "version_major": 2,
       "version_minor": 0
      },
      "text/plain": [
       "  0%|          | 0/200 [00:00<?, ?it/s]"
      ]
     },
     "metadata": {},
     "output_type": "display_data"
    },
    {
     "data": {
      "text/plain": [
       "[<matplotlib.lines.Line2D at 0xffff86edbc10>]"
      ]
     },
     "execution_count": 7,
     "metadata": {},
     "output_type": "execute_result"
    },
    {
     "data": {
      "image/png": "[encoded data removed]",
      "text/plain": [
       "<Figure size 432x288 with 1 Axes>"
      ]
     },
     "metadata": {
      "needs_background": "light"
     },
     "output_type": "display_data"
    }
   ],
   "source": [
    "t2p=RamseyProgram(soccfg, config)\n",
    "x_pts, avgi, avgq= t2p.acquire(soc, load_pulses=True,progress=True, debug=False)\n",
    "\n",
    "subplot(111, title=\"Ramsey Fringe Experiment\", xlabel=\"Delay time [us]\", ylabel=\"Qubit Population\")\n",
    "plot(soccfg.cycles2us(x_pts),np.abs(avgi[0][0]+avgq[0][0]*1j),'o-')"
   ]
  },
  {
   "cell_type": "code",
   "execution_count": null,
   "id": "0b255886",
   "metadata": {},
   "outputs": [],
   "source": []
  }
 ],
 "metadata": {
  "kernelspec": {
   "display_name": "Python 3",
   "language": "python",
   "name": "python3"
  },
  "language_info": {
   "codemirror_mode": {
    "name": "ipython",
    "version": 3
   },
   "file_extension": ".py",
   "mimetype": "text/x-python",
   "name": "python",
   "nbconvert_exporter": "python",
   "pygments_lexer": "ipython3",
   "version": "3.8.2"
  }
 },
 "nbformat": 4,
 "nbformat_minor": 5
}
